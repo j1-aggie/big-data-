{
  "nbformat": 4,
  "nbformat_minor": 0,
  "metadata": {
    "colab": {
      "name": "Copy of level one solution.ipynb",
      "provenance": [],
      "include_colab_link": true
    },
    "kernelspec": {
      "display_name": "Python 3",
      "language": "python",
      "name": "python3"
    },
    "language_info": {
      "codemirror_mode": {
        "name": "ipython",
        "version": 3
      },
      "file_extension": ".py",
      "mimetype": "text/x-python",
      "name": "python",
      "nbconvert_exporter": "python",
      "pygments_lexer": "ipython3",
      "version": "3.7.7"
    },
    "latex_envs": {
      "LaTeX_envs_menu_present": true,
      "autoclose": false,
      "autocomplete": true,
      "bibliofile": "biblio.bib",
      "cite_by": "apalike",
      "current_citInitial": 1,
      "eqLabelWithNumbers": true,
      "eqNumInitial": 1,
      "hotkeys": {
        "equation": "Ctrl-E",
        "itemize": "Ctrl-I"
      },
      "labels_anchors": false,
      "latex_user_defs": false,
      "report_style_numbering": false,
      "user_envs_cfg": false
    }
  },
  "cells": [
    {
      "cell_type": "markdown",
      "metadata": {
        "id": "view-in-github",
        "colab_type": "text"
      },
      "source": [
        "<a href=\"https://colab.research.google.com/github/j1-aggie/big-data-/blob/main/Level_one_solution.ipynb\" target=\"_parent\"><img src=\"https://colab.research.google.com/assets/colab-badge.svg\" alt=\"Open In Colab\"/></a>"
      ]
    },
    {
      "cell_type": "code",
      "metadata": {
        "colab": {
          "base_uri": "https://localhost:8080/"
        },
        "id": "Y6pz7LGh_L1p",
        "outputId": "7ee50cf8-15e6-438c-f245-0256f23051f0"
      },
      "source": [
        "import os\n",
        "# Find the latest version of spark 3.0  from http://www-us.apache.org/dist/spark/ and enter as the spark version\n",
        "# For example:\n",
        "# spark_version = 'spark-3.0.1'\n",
        "spark_version = 'spark-3.0.1'\n",
        "os.environ['SPARK_VERSION']=spark_version\n",
        "\n",
        "# Install Spark and Java\n",
        "!apt-get update\n",
        "!apt-get install openjdk-11-jdk-headless -qq > /dev/null\n",
        "!wget -q http://www-us.apache.org/dist/spark/$SPARK_VERSION/$SPARK_VERSION-bin-hadoop2.7.tgz\n",
        "!tar xf $SPARK_VERSION-bin-hadoop2.7.tgz\n",
        "!pip install -q findspark\n",
        "\n",
        "# Set Environment Variables\n",
        "os.environ[\"JAVA_HOME\"] = \"/usr/lib/jvm/java-11-openjdk-amd64\"\n",
        "os.environ[\"SPARK_HOME\"] = f\"/content/{spark_version}-bin-hadoop2.7\"\n",
        "\n",
        "# Start a SparkSession\n",
        "import findspark\n",
        "findspark.init()"
      ],
      "execution_count": null,
      "outputs": [
        {
          "output_type": "stream",
          "text": [
            "\r0% [Working]\r            \rHit:1 https://cloud.r-project.org/bin/linux/ubuntu bionic-cran40/ InRelease\n",
            "\r0% [Connecting to archive.ubuntu.com] [Connecting to security.ubuntu.com (91.18\r0% [1 InRelease gpgv 3,626 B] [Connecting to archive.ubuntu.com] [Connecting to\r                                                                               \rIgn:2 https://developer.download.nvidia.com/compute/cuda/repos/ubuntu1804/x86_64  InRelease\n",
            "\r0% [1 InRelease gpgv 3,626 B] [Connecting to archive.ubuntu.com] [Connecting to\r                                                                               \rIgn:3 https://developer.download.nvidia.com/compute/machine-learning/repos/ubuntu1804/x86_64  InRelease\n",
            "\r0% [1 InRelease gpgv 3,626 B] [Connecting to archive.ubuntu.com] [Connecting to\r                                                                               \rHit:4 https://developer.download.nvidia.com/compute/cuda/repos/ubuntu1804/x86_64  Release\n",
            "Hit:5 https://developer.download.nvidia.com/compute/machine-learning/repos/ubuntu1804/x86_64  Release\n",
            "Get:6 http://security.ubuntu.com/ubuntu bionic-security InRelease [88.7 kB]\n",
            "Get:7 http://ppa.launchpad.net/c2d4u.team/c2d4u4.0+/ubuntu bionic InRelease [15.9 kB]\n",
            "Hit:8 http://archive.ubuntu.com/ubuntu bionic InRelease\n",
            "Get:10 http://archive.ubuntu.com/ubuntu bionic-updates InRelease [88.7 kB]\n",
            "Hit:12 http://ppa.launchpad.net/cran/libgit2/ubuntu bionic InRelease\n",
            "Hit:13 http://ppa.launchpad.net/graphics-drivers/ppa/ubuntu bionic InRelease\n",
            "Get:14 http://archive.ubuntu.com/ubuntu bionic-backports InRelease [74.6 kB]\n",
            "Get:15 http://ppa.launchpad.net/c2d4u.team/c2d4u4.0+/ubuntu bionic/main Sources [1,716 kB]\n",
            "Get:16 http://ppa.launchpad.net/c2d4u.team/c2d4u4.0+/ubuntu bionic/main amd64 Packages [878 kB]\n",
            "Fetched 2,861 kB in 3s (853 kB/s)\n",
            "Reading package lists... Done\n"
          ],
          "name": "stdout"
        }
      ]
    },
    {
      "cell_type": "code",
      "metadata": {
        "colab": {
          "base_uri": "https://localhost:8080/"
        },
        "id": "XLtUe1f5zLDM",
        "outputId": "d61a9cdc-4e16-47af-bc16-134ab8b3cde7"
      },
      "source": [
        "!wget https://jdbc.postgresql.org/download/postgresql-42.2.9.jar"
      ],
      "execution_count": null,
      "outputs": [
        {
          "output_type": "stream",
          "text": [
            "--2021-01-12 22:53:23--  https://jdbc.postgresql.org/download/postgresql-42.2.9.jar\n",
            "Resolving jdbc.postgresql.org (jdbc.postgresql.org)... 72.32.157.228, 2001:4800:3e1:1::228\n",
            "Connecting to jdbc.postgresql.org (jdbc.postgresql.org)|72.32.157.228|:443... connected.\n",
            "HTTP request sent, awaiting response... 200 OK\n",
            "Length: 914037 (893K) [application/java-archive]\n",
            "Saving to: ‘postgresql-42.2.9.jar’\n",
            "\n",
            "postgresql-42.2.9.j 100%[===================>] 892.61K  1.30MB/s    in 0.7s    \n",
            "\n",
            "2021-01-12 22:53:25 (1.30 MB/s) - ‘postgresql-42.2.9.jar’ saved [914037/914037]\n",
            "\n"
          ],
          "name": "stdout"
        }
      ]
    },
    {
      "cell_type": "code",
      "metadata": {
        "id": "kW91lt3DzLDN"
      },
      "source": [
        "from pyspark.sql import SparkSession\n",
        "spark = SparkSession.builder.appName(\"CloudETL\").config(\"spark.driver.extraClassPath\",\"/content/postgresql-42.2.9.jar\").getOrCreate()"
      ],
      "execution_count": null,
      "outputs": []
    },
    {
      "cell_type": "code",
      "metadata": {
        "colab": {
          "base_uri": "https://localhost:8080/"
        },
        "id": "aIGU4Tzs_Q4g",
        "outputId": "2a6117e0-376b-45cd-a25f-130fbf763169"
      },
      "source": [
        "from pyspark import SparkFiles\n",
        "# Load in employee.csv from S3 into a DataFrame\n",
        "url = \"https://etl-s3-colab.s3.us-east-2.amazonaws.com/employee.csv\"\n",
        "spark.sparkContext.addFile(url)\n",
        "\n",
        "df = spark.read.option('header', 'true').csv(SparkFiles.get(\"employee.csv\"), inferSchema=True, sep=',', timestampFormat=\"mm/dd/yy\")\n",
        "df.show(10)"
      ],
      "execution_count": null,
      "outputs": [
        {
          "output_type": "stream",
          "text": [
            "+---+-----------+--------+--------------------+--------+--------------+------+---------+--------+--------------+----------------+--------------------+------------+\n",
            "|_c0|Employee ID|   Email|            Position|     DOB|Marital Status|Gender|Hire Date|Salaried|Vacation Hours|Sick Leave Hours|  Encrypted Password|    Modified|\n",
            "+---+-----------+--------+--------------------+--------+--------------+------+---------+--------+--------------+----------------+--------------------+------------+\n",
            "|  1|  295847284|    ken0|Chief Executive O...| 1/29/69|             S|     M|  1/14/09|       1|            99|              69|F01251E5-96A3-448...|6/30/14 0:00|\n",
            "|  2|  245797967|  terri0|Vice President of...|  8/1/71|             S|     F|  1/31/08|       1|             1|              20|45E8F437-670D-440...|6/30/14 0:00|\n",
            "|  3|  509647174|roberto0| Engineering Manager|11/12/74|             M|     M| 11/11/07|       1|             2|              21|9BBBFB2C-EFBB-421...|6/30/14 0:00|\n",
            "|  4|  112457891|    rob0|Senior Tool Designer|12/23/74|             S|     M|  12/5/07|       0|            48|              80|59747955-87B8-443...|6/30/14 0:00|\n",
            "|  5|  695256908|   gail0|     Design Engineer| 9/27/52|             M|     F|   1/6/08|       1|             5|              22|EC84AE09-F9B8-4A1...|6/30/14 0:00|\n",
            "|  6|  998320692| jossef0|     Design Engineer| 3/11/59|             M|     M|  1/24/08|       1|             6|              23|E39056F1-9CD5-478...|6/30/14 0:00|\n",
            "|  7|  134969118|  dylan0|Research and Deve...| 2/24/87|             M|     M|   2/8/09|       1|            61|              50|4F46DECA-EF01-41F...|6/30/14 0:00|\n",
            "|  8|  811994146|  diane1|Research and Deve...|  6/5/86|             S|     F| 12/29/08|       1|            62|              51|31112635-663B-401...|6/30/14 0:00|\n",
            "|  9|  658797903|   gigi0|Research and Deve...| 1/21/79|             M|     F|  1/16/09|       1|            63|              51|50B6CDC6-7570-47E...|6/30/14 0:00|\n",
            "| 10|  879342154|michael6|Research and Deve...|11/30/84|             M|     M|   5/3/09|       1|            16|              64|EAA43680-5571-40C...|6/30/14 0:00|\n",
            "+---+-----------+--------+--------------------+--------+--------------+------+---------+--------+--------------+----------------+--------------------+------------+\n",
            "only showing top 10 rows\n",
            "\n"
          ],
          "name": "stdout"
        }
      ]
    },
    {
      "cell_type": "markdown",
      "metadata": {
        "id": "kdtKPZ1w_V3e"
      },
      "source": [
        "## Drop duplicates and incomplete rows"
      ]
    },
    {
      "cell_type": "code",
      "metadata": {
        "colab": {
          "base_uri": "https://localhost:8080/"
        },
        "id": "10qoqQv3_Y_w",
        "outputId": "db0ac335-9212-40e2-e5ff-b72f7f8abf52"
      },
      "source": [
        "print(df.count())\n",
        "df = df.dropna()\n",
        "print(df.count())\n",
        "df = df.dropDuplicates()\n",
        "print(df.count())"
      ],
      "execution_count": null,
      "outputs": [
        {
          "output_type": "stream",
          "text": [
            "292\n",
            "291\n",
            "289\n"
          ],
          "name": "stdout"
        }
      ]
    },
    {
      "cell_type": "markdown",
      "metadata": {
        "id": "GAgvBYkG_awE"
      },
      "source": [
        "## Examine the schema"
      ]
    },
    {
      "cell_type": "code",
      "metadata": {
        "colab": {
          "base_uri": "https://localhost:8080/"
        },
        "id": "SXtPi-Hw_dCe",
        "outputId": "a551996d-772f-4b32-db90-2f28d944944d"
      },
      "source": [
        "df.printSchema()"
      ],
      "execution_count": null,
      "outputs": [
        {
          "output_type": "stream",
          "text": [
            "root\n",
            " |-- _c0: integer (nullable = true)\n",
            " |-- Employee ID: integer (nullable = true)\n",
            " |-- Email: string (nullable = true)\n",
            " |-- Position: string (nullable = true)\n",
            " |-- DOB: string (nullable = true)\n",
            " |-- Marital Status: string (nullable = true)\n",
            " |-- Gender: string (nullable = true)\n",
            " |-- Hire Date: string (nullable = true)\n",
            " |-- Salaried: integer (nullable = true)\n",
            " |-- Vacation Hours: integer (nullable = true)\n",
            " |-- Sick Leave Hours: integer (nullable = true)\n",
            " |-- Encrypted Password: string (nullable = true)\n",
            " |-- Modified: string (nullable = true)\n",
            "\n"
          ],
          "name": "stdout"
        }
      ]
    },
    {
      "cell_type": "markdown",
      "metadata": {
        "id": "klopnaUE_eZV"
      },
      "source": [
        "## Rename columns"
      ]
    },
    {
      "cell_type": "code",
      "metadata": {
        "colab": {
          "base_uri": "https://localhost:8080/"
        },
        "id": "9b0dvAat_f7L",
        "outputId": "e3729a00-7f96-4ade-857a-d01946337aaa"
      },
      "source": [
        "df1 = df.withColumnRenamed(\"Employee ID\", \"employee_id\") \\\n",
        "        .withColumnRenamed(\"Email\", \"email\") \\\n",
        "        .withColumnRenamed(\"Gender\", \"gender\") \\\n",
        "        .withColumnRenamed(\"Hire Date\", \"hire_date\") \\\n",
        "        .withColumnRenamed(\"DOB\", \"dob\") \\\n",
        "        .withColumnRenamed(\"Encrypted Password\", \"password\")\n",
        "df1.show(5)"
      ],
      "execution_count": null,
      "outputs": [
        {
          "output_type": "stream",
          "text": [
            "+---+-----------+-------+--------------------+--------+--------------+------+---------+--------+--------------+----------------+--------------------+------------+\n",
            "|_c0|employee_id|  email|            Position|     dob|Marital Status|gender|hire_date|Salaried|Vacation Hours|Sick Leave Hours|            password|    Modified|\n",
            "+---+-----------+-------+--------------------+--------+--------------+------+---------+--------+--------------+----------------+--------------------+------------+\n",
            "| 23|  767955365|  mary0|Marketing Specialist| 9/13/62|             M|     F|  1/12/09|       0|            46|              43|90899830-127E-487...|6/30/14 0:00|\n",
            "|142|  163347032|olinda0|Production Techni...|  4/4/70|             S|     F|   3/4/10|       0|             3|              21|6456CEC3-9B1E-4EB...|6/30/14 0:00|\n",
            "|171|  746373306| david3|Production Techni...|  8/3/81|             S|     M|   1/2/09|       0|            32|              36|84C358D4-2493-452...|6/30/14 0:00|\n",
            "|253|  407505660| linda2|               Buyer|11/30/70|             M|     F| 12/17/09|       0|            56|              48|ED06F9F4-2123-4C4...|6/30/14 0:00|\n",
            "|  9|  658797903|  gigi0|Research and Deve...| 1/21/79|             M|     F|  1/16/09|       1|            63|              51|50B6CDC6-7570-47E...|6/30/14 0:00|\n",
            "+---+-----------+-------+--------------------+--------+--------------+------+---------+--------+--------------+----------------+--------------------+------------+\n",
            "only showing top 5 rows\n",
            "\n"
          ],
          "name": "stdout"
        }
      ]
    },
    {
      "cell_type": "markdown",
      "metadata": {
        "id": "AbG7CtSA_gfw"
      },
      "source": [
        "## Create a new DataFrame for employee info"
      ]
    },
    {
      "cell_type": "code",
      "metadata": {
        "colab": {
          "base_uri": "https://localhost:8080/"
        },
        "id": "saJ1WiZb_ik6",
        "outputId": "f5716b1f-6ffb-46ef-8df7-5c7e0792ec00"
      },
      "source": [
        "employee_personal_info = df1.select([\"employee_id\", \"email\", \"gender\", \"hire_date\", \"dob\"])\n",
        "employee_personal_info.show(5)"
      ],
      "execution_count": null,
      "outputs": [
        {
          "output_type": "stream",
          "text": [
            "+-----------+-------+------+---------+--------+\n",
            "|employee_id|  email|gender|hire_date|     dob|\n",
            "+-----------+-------+------+---------+--------+\n",
            "|  767955365|  mary0|     F|  1/12/09| 9/13/62|\n",
            "|  163347032|olinda0|     F|   3/4/10|  4/4/70|\n",
            "|  746373306| david3|     M|   1/2/09|  8/3/81|\n",
            "|  407505660| linda2|     F| 12/17/09|11/30/70|\n",
            "|  658797903|  gigi0|     F|  1/16/09| 1/21/79|\n",
            "+-----------+-------+------+---------+--------+\n",
            "only showing top 5 rows\n",
            "\n"
          ],
          "name": "stdout"
        }
      ]
    },
    {
      "cell_type": "markdown",
      "metadata": {
        "id": "0PDvBiVN_jGe"
      },
      "source": [
        "## Write DataFrame to RDS"
      ]
    },
    {
      "cell_type": "code",
      "metadata": {
        "id": "fOIS3viE_leJ"
      },
      "source": [
        "# Configuration for RDS instance\n",
        "mode=\"append\"\n",
        "jdbc_url = \"jdbc:postgresql://bootcamp-1.cjr5lzjymj5a.us-east-2.rds.amazonaws.com:5432/student_activity\"\n",
        "config = {\"user\":\"postgres\",\n",
        "          \"password\": \"postgres\",\n",
        "          \"driver\":\"org.postgresql.Driver\"}"
      ],
      "execution_count": null,
      "outputs": []
    },
    {
      "cell_type": "code",
      "metadata": {
        "id": "K6_O84CK_nV5"
      },
      "source": [
        "# Write DataFrame to table\n",
        "\n",
        "employee_personal_info.write.jdbc(url=jdbc_url, table='employee_personal_info', mode=mode, properties=config)"
      ],
      "execution_count": null,
      "outputs": []
    },
    {
      "cell_type": "markdown",
      "metadata": {
        "id": "_Or1RnPr_nzd"
      },
      "source": [
        "## Create a new DataFrame for employee passwords"
      ]
    },
    {
      "cell_type": "code",
      "metadata": {
        "colab": {
          "base_uri": "https://localhost:8080/"
        },
        "id": "7mDI_Xg9_q8_",
        "outputId": "669c6003-d4f9-42be-b1be-9f32d91be5af"
      },
      "source": [
        "employee_password = df1.select([\"employee_id\", \"password\"])\n",
        "employee_password.show(5)"
      ],
      "execution_count": null,
      "outputs": [
        {
          "output_type": "stream",
          "text": [
            "+-----------+--------------------+\n",
            "|employee_id|            password|\n",
            "+-----------+--------------------+\n",
            "|  767955365|90899830-127E-487...|\n",
            "|  163347032|6456CEC3-9B1E-4EB...|\n",
            "|  746373306|84C358D4-2493-452...|\n",
            "|  407505660|ED06F9F4-2123-4C4...|\n",
            "|  658797903|50B6CDC6-7570-47E...|\n",
            "+-----------+--------------------+\n",
            "only showing top 5 rows\n",
            "\n"
          ],
          "name": "stdout"
        }
      ]
    },
    {
      "cell_type": "markdown",
      "metadata": {
        "id": "SCmoHROm_saU"
      },
      "source": [
        "## Write DataFrame to RDS"
      ]
    },
    {
      "cell_type": "code",
      "metadata": {
        "id": "CNKz5FHg_uV9"
      },
      "source": [
        "# Write DataFrame to table\n",
        "\n",
        "employee_password.write.jdbc(url=jdbc_url, table='employee_password', mode=mode, properties=config)"
      ],
      "execution_count": null,
      "outputs": []
    },
    {
      "cell_type": "code",
      "metadata": {
        "id": "Tvw--Ool_vju"
      },
      "source": [
        ""
      ],
      "execution_count": null,
      "outputs": []
    },
    {
      "cell_type": "markdown",
      "metadata": {
        "id": "Hg6UtHhk8MP6"
      },
      "source": [
        ""
      ]
    }
  ]
}